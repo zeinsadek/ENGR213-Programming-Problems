{
 "cells": [
  {
   "cell_type": "markdown",
   "metadata": {},
   "source": [
    "# Homework 6, problem 8.C1\n",
    "* Zein Sadek\n",
    "* ENGR 213\n",
    "* Due 8/21/19"
   ]
  },
  {
   "cell_type": "code",
   "execution_count": 1,
   "metadata": {},
   "outputs": [],
   "source": [
    "import numpy as np"
   ]
  },
  {
   "cell_type": "markdown",
   "metadata": {},
   "source": [
    "Let us assume that the shear V and the bending moment M have\n",
    "been determined in a given section of a rolled-steel beam. Write a computer\n",
    "program to calculate in that section, from the data available in\n",
    "Appendix C, (a) the maximum normal stress sm , (b) the principal stress\n",
    "smax at the junction of a flange and the web. Use this program to solve\n",
    "parts a and b of the following problems:\n",
    "\n",
    "(A) Prob. 8.1 (Use V=45 kips and M=450 kip/in.)\n",
    "\n",
    "(B) Prob. 8.2 (Use V=22.5 kips and M=450 kip/in.)\n",
    "\n",
    "(C) Prob. 8.3 (Use V=700 kN and M=1750 kN/m)\n",
    "\n",
    "(D) Prob. 8.4 (Use V=850 kN and M=1700 kN/m)"
   ]
  },
  {
   "cell_type": "markdown",
   "metadata": {},
   "source": [
    "### We can begin by having the user define all their parameters"
   ]
  },
  {
   "cell_type": "code",
   "execution_count": null,
   "metadata": {},
   "outputs": [],
   "source": [
    "V=float(input('Please enter the shear force: '))\n",
    "M=float(input('Please enter the moment: '))\n",
    "d=float(input('Please enter the height of the beam: '))\n",
    "flange_width=float(input('Please enter the flange width: '))\n",
    "flange_thickness=float(input('Please enter the flange thickness: '))\n",
    "web_thickness=float(input('Please enter the web thickness: '))\n",
    "I=float(input('Please enter the moment of inertia of the beam: '))\n",
    "S=float(input('Please enter the section modulous: '))"
   ]
  },
  {
   "cell_type": "markdown",
   "metadata": {},
   "source": [
    "### We can now set up our equations to solve for what we are looking for"
   ]
  },
  {
   "cell_type": "code",
   "execution_count": 3,
   "metadata": {},
   "outputs": [],
   "source": [
    "c=d/2\n",
    "yb=c-flange_thickness\n",
    "ybar=d-(flange_thickness/2)\n",
    "stress_a=M/S\n",
    "stress_b=stress_a*(yb/c)\n",
    "Q=flange_width*flange_thickness*ybar\n",
    "shear=(V*Q)/(I*web_thickness)\n",
    "R=((stress_b/2)**2+shear**2)**(1/2)\n",
    "stress_max=(stress_b/2)+R"
   ]
  },
  {
   "cell_type": "markdown",
   "metadata": {},
   "source": [
    "### Finally we can put everything into a function with some print statements so we can evaluate multiple problems easier"
   ]
  },
  {
   "cell_type": "code",
   "execution_count": 7,
   "metadata": {},
   "outputs": [],
   "source": [
    "def loaded_beam(x):\n",
    "    \n",
    "    # X wil be used to determined of the base units are in SI or US customary\n",
    "    # If SI enter SI for 1\n",
    "    # If US customary enter US for 2\n",
    "    \n",
    "    if x==1:\n",
    "        V=float(input('Please enter the shear force: '))\n",
    "        M=float(input('Please enter the moment: '))\n",
    "        d=float(input('Please enter the height of the beam: '))\n",
    "        flange_width=float(input('Please enter the flange width: '))\n",
    "        flange_thickness=float(input('Please enter the flange thickness: '))\n",
    "        web_thickness=float(input('Please enter the web thickness: '))\n",
    "        I=float(input('Please enter the moment of inertia of the beam: '))\n",
    "        S=float(input('Please enter the section modulous: '))\n",
    "\n",
    "        c=d/2\n",
    "        yb=c-flange_thickness\n",
    "        ybar=c-(flange_thickness/2)\n",
    "        stress_a=(M*10**6)/S\n",
    "        stress_b=stress_a*(yb/c)\n",
    "        Q=flange_width*flange_thickness*ybar*1000\n",
    "        shear=(V*Q)/(I*web_thickness)\n",
    "        R=((stress_b/2)**2+shear**2)**(1/2)\n",
    "        stress_max=(stress_b/2)+R\n",
    "\n",
    "        print(' ')\n",
    "        print(f'The stress at point a is {np.round(stress_a,3)}')\n",
    "        print(f'The stress at point b is {np.round(stress_b,3)}')\n",
    "        print(f'The shear is {np.round(shear,3)}')\n",
    "        print(f'The radius of mohrs circle is {np.round(R,3)}')\n",
    "        print(f'The max stress is {np.round(stress_max,3)}')\n",
    "        \n",
    "    if x==2:\n",
    "        V=float(input('Please enter the shear force: '))\n",
    "        M=float(input('Please enter the moment: '))\n",
    "        d=float(input('Please enter the height of the beam: '))\n",
    "        flange_width=float(input('Please enter the flange width: '))\n",
    "        flange_thickness=float(input('Please enter the flange thickness: '))\n",
    "        web_thickness=float(input('Please enter the web thickness: '))\n",
    "        I=float(input('Please enter the moment of inertia of the beam: '))\n",
    "        S=float(input('Please enter the section modulous: '))\n",
    "        \n",
    "        c=d/2\n",
    "        yb=c-flange_thickness\n",
    "        ybar=c-(flange_thickness/2)\n",
    "        stress_a=M/S\n",
    "        stress_b=stress_a*(yb/c)\n",
    "        Q=flange_width*flange_thickness*ybar\n",
    "        shear=(V*Q)/(I*web_thickness)\n",
    "        R=((stress_b/2)**2+shear**2)**(1/2)\n",
    "        stress_max=(stress_b/2)+R\n",
    "\n",
    "        print(' ')\n",
    "        print(f'The stress at point a is {np.round(stress_a,3)}')\n",
    "        print(f'The stress at point b is {np.round(stress_b,3)}')\n",
    "        print(f'The shear is {np.round(shear,3)}')\n",
    "        print(f'The radius of mohrs circle is {np.round(R,3)}')\n",
    "        print(f'The max stress is {np.round(stress_max,3)}')"
   ]
  },
  {
   "cell_type": "markdown",
   "metadata": {},
   "source": [
    "# A) 8.1"
   ]
  },
  {
   "cell_type": "code",
   "execution_count": 8,
   "metadata": {},
   "outputs": [
    {
     "name": "stdout",
     "output_type": "stream",
     "text": [
      "Please enter the shear force: 45\n",
      "Please enter the moment: 450\n",
      "Please enter the height of the beam: 9.92\n",
      "Please enter the flange width: 7.985\n",
      "Please enter the flange thickness: 0.53\n",
      "Please enter the web thickness: 0.315\n",
      "Please enter the moment of inertia of the beam: 209\n",
      "Please enter the section modulous: 42.1\n",
      " \n",
      "The stress at point a is 10.689\n",
      "The stress at point b is 9.547\n",
      "The shear is 13.581\n",
      "The radius of mohrs circle is 14.396\n",
      "The max stress is 19.169\n"
     ]
    }
   ],
   "source": [
    "loaded_beam(2)"
   ]
  },
  {
   "cell_type": "markdown",
   "metadata": {},
   "source": [
    "# B) 8.2"
   ]
  },
  {
   "cell_type": "code",
   "execution_count": 9,
   "metadata": {},
   "outputs": [
    {
     "name": "stdout",
     "output_type": "stream",
     "text": [
      "Please enter the shear force: 22.5\n",
      "Please enter the moment: 450\n",
      "Please enter the height of the beam: 9.92\n",
      "Please enter the flange width: 7.985\n",
      "Please enter the flange thickness: 0.53\n",
      "Please enter the web thickness: 0.315\n",
      "Please enter the moment of inertia of the beam: 209\n",
      "Please enter the section modulous: 42.1\n",
      " \n",
      "The stress at point a is 10.689\n",
      "The stress at point b is 9.547\n",
      "The shear is 6.791\n",
      "The radius of mohrs circle is 8.3\n",
      "The max stress is 13.074\n"
     ]
    }
   ],
   "source": [
    "loaded_beam(2)"
   ]
  },
  {
   "cell_type": "markdown",
   "metadata": {},
   "source": [
    "# C) 8.3"
   ]
  },
  {
   "cell_type": "code",
   "execution_count": 11,
   "metadata": {},
   "outputs": [
    {
     "name": "stdout",
     "output_type": "stream",
     "text": [
      "Please enter the shear force: 700\n",
      "Please enter the moment: 1750\n",
      "Please enter the height of the beam: 930\n",
      "Please enter the flange width: 423\n",
      "Please enter the flange thickness: 43\n",
      "Please enter the web thickness: 24\n",
      "Please enter the moment of inertia of the beam: 8470000000\n",
      "Please enter the section modulous: 18200000\n",
      " \n",
      "The stress at point a is 96.154\n",
      "The stress at point b is 87.262\n",
      "The shear is 27.778\n",
      "The radius of mohrs circle is 51.723\n",
      "The max stress is 95.354\n"
     ]
    }
   ],
   "source": [
    "loaded_beam(1)"
   ]
  },
  {
   "cell_type": "markdown",
   "metadata": {},
   "source": [
    "# D) 8.4"
   ]
  },
  {
   "cell_type": "code",
   "execution_count": 12,
   "metadata": {},
   "outputs": [
    {
     "name": "stdout",
     "output_type": "stream",
     "text": [
      "Please enter the shear force: 850\n",
      "Please enter the moment: 1750\n",
      "Please enter the height of the beam: 930\n",
      "Please enter the flange width: 423\n",
      "Please enter the flange thickness: 43\n",
      "Please enter the web thickness: 24\n",
      "Please enter the moment of inertia of the beam: 8470000000\n",
      "Please enter the section modulous: 18200000\n",
      " \n",
      "The stress at point a is 96.154\n",
      "The stress at point b is 87.262\n",
      "The shear is 33.731\n",
      "The radius of mohrs circle is 55.149\n",
      "The max stress is 98.78\n"
     ]
    }
   ],
   "source": [
    "loaded_beam(1)"
   ]
  }
 ],
 "metadata": {
  "kernelspec": {
   "display_name": "Python 3",
   "language": "python",
   "name": "python3"
  },
  "language_info": {
   "codemirror_mode": {
    "name": "ipython",
    "version": 3
   },
   "file_extension": ".py",
   "mimetype": "text/x-python",
   "name": "python",
   "nbconvert_exporter": "python",
   "pygments_lexer": "ipython3",
   "version": "3.7.1"
  }
 },
 "nbformat": 4,
 "nbformat_minor": 2
}
