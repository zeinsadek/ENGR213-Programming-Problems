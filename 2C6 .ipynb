{
 "cells": [
  {
   "cell_type": "markdown",
   "metadata": {},
   "source": [
    "# Homework 2, problem 2.C6\n",
    "* Zein Sadek\n",
    "* ENGR 213\n",
    "* Due 7/9/19"
   ]
  },
  {
   "cell_type": "markdown",
   "metadata": {},
   "source": [
    "A solid truncated cone is subjected to an axial force P as shown.\n",
    "The exact elongation is (P*L)/(2*pi c^2 E). By replacing the cone by n circular\n",
    "cylinders of equal thickness, write a computer program that can be used\n",
    "to calculate the elongation of the truncated cone. What is the percentage\n",
    "error in the answer obtained from the program using (a) n = 6,\n",
    "(b) n = 12, (c) n = 60?"
   ]
  },
  {
   "cell_type": "markdown",
   "metadata": {},
   "source": [
    "### Since the problem only supplies us with the dimensions of our cone and no actual values, we will have to assign them ourselves"
   ]
  },
  {
   "cell_type": "code",
   "execution_count": 2,
   "metadata": {},
   "outputs": [],
   "source": [
    "import math"
   ]
  },
  {
   "cell_type": "code",
   "execution_count": 3,
   "metadata": {},
   "outputs": [],
   "source": [
    "P=100*(10**3)     # 100 KiloNewtons (100 kN)\n",
    "C=1               # 1 Meter (1m)\n",
    "L=5               # 5 Meters (5m)\n",
    "E=100*(10**9)     # 100 GigaPascals (100 GPa)"
   ]
  },
  {
   "cell_type": "markdown",
   "metadata": {},
   "source": [
    "### We can now calculate the exact deflection with our given values\n",
    "Using the deflection equation given in the problem ```deflection=(P*L)/(2*math.pi*E*(C**2))``` we get,"
   ]
  },
  {
   "cell_type": "code",
   "execution_count": 17,
   "metadata": {},
   "outputs": [
    {
     "name": "stdout",
     "output_type": "stream",
     "text": [
      "The exact value for our deflection \n",
      "is 7.96e-07 meters, or 0.000795775 mm\n"
     ]
    }
   ],
   "source": [
    "deflect_exact=(P*L)/(2*math.pi*E*(C**2))\n",
    "print(f'The exact value for our deflection \\nis {round(deflect_exact,9)} meters, or {round(deflect_exact*10**3,9)} mm')"
   ]
  },
  {
   "cell_type": "markdown",
   "metadata": {},
   "source": [
    "Note: I rounded the printed values of the exect deflection for ease of readability.\n",
    "When percent error calculations are done I will use the full number of decimals without any truncation"
   ]
  },
  {
   "cell_type": "markdown",
   "metadata": {},
   "source": [
    "# We can now start making equations for dividing our volume into n number of cylinders\n",
    "\n",
    "### Thickness of each cylinder\n",
    "The thickness of each cylinder will be our overall length (5 meters) divided by n number of cylinders, therefore ```width_cylinders=L/n```\n",
    "\n",
    "### Center of each cylinder\n",
    "In order to achieve a more accurate approximation we will use a the center of each cylinder to determine the corresponding radius. We can slove for the center value with the equation, ```center_thick=(cylinder_number*width_cylinders)-(width_cylinders/2)```. We can also model the profile of the volume with the linear equation, ```r=-(1/5)*center_thick + 2```. We can evaluate our ```center_thick``` value with the ```r``` equation to solve for the corresponding radius for each cylinder\n",
    "\n",
    "### Total deflection\n",
    "Once we have the dimensions for each cylinder, the total deflection will be the sum of the deflections of each individual cylinder using the ```deflection=(P*width_cylinders)/(E*math.pi*(r**2))``` with the ```r``` value being different for each cylinder"
   ]
  },
  {
   "cell_type": "markdown",
   "metadata": {},
   "source": [
    "I ran  a sample with 2 cylinders to see how everything would work and got an answer that is the same order of magnitude as the exact deflection and roughly near the same value"
   ]
  },
  {
   "cell_type": "code",
   "execution_count": 19,
   "metadata": {},
   "outputs": [
    {
     "name": "stdout",
     "output_type": "stream",
     "text": [
      "The calculated deflection with n=2 is 7.69e-07 meters, or 0.000769141mm\n"
     ]
    }
   ],
   "source": [
    "n=2\n",
    "width_cylinders=L/n\n",
    "center_thick1=(1*width_cylinders)-(width_cylinders/2)\n",
    "center_thick2=(2*width_cylinders)-(width_cylinders/2)\n",
    "r1=-(1/5)*center_thick1+2\n",
    "r2=-(1/5)*center_thick2+2\n",
    "deflec_cyld1=(P*width_cylinders)/(E*math.pi*(r1**2))\n",
    "deflec_cyld2=(P*width_cylinders)/(E*math.pi*(r2**2))\n",
    "deflec_net=deflec_cyld1+deflec_cyld2\n",
    "print(f'The calculated deflection with n=2 is {round(deflec_net,9)} meters, or {round(deflec_net*(10**3),9)}mm')"
   ]
  },
  {
   "cell_type": "markdown",
   "metadata": {},
   "source": [
    "# Calculating deflection for large n values\n",
    "Now that we have our equations in place we must use loops to compute and sum the deflections. While doing it by hand is possible, it is much more efficient to have the computor do it for us"
   ]
  },
  {
   "cell_type": "markdown",
   "metadata": {},
   "source": [
    "Again, using n=2 to test our loop since we know what it should add up to"
   ]
  },
  {
   "cell_type": "code",
   "execution_count": 7,
   "metadata": {},
   "outputs": [
    {
     "name": "stdout",
     "output_type": "stream",
     "text": [
      "The calculated deflection with a loop while n=2 is 7.69e-07 meters, or 0.000769141 mm\n"
     ]
    }
   ],
   "source": [
    "n=2\n",
    "width_cylinders=L/n\n",
    "total_deflection=0    # The total_deflection variable is used to sum the deflections\n",
    "\n",
    "for i in range(1,n+1):\n",
    "    center_thick=(i*width_cylinders)-(width_cylinders/2)\n",
    "    r=(-(1/5)*center_thick)+2\n",
    "    deflec=(P*width_cylinders)/(E*math.pi*(r**2))\n",
    "    total_deflection += deflec\n",
    "    \n",
    "print(f'The calculated deflection with a loop while n=2 is {round(total_deflection,9)} meters, or {round(total_deflection*(10**3),9)} mm')"
   ]
  },
  {
   "cell_type": "markdown",
   "metadata": {},
   "source": [
    "To make changing the n value easier (and also because I wanted to)  I put the loop in a ```deflection``` formula which also asks the user to choose a value for n"
   ]
  },
  {
   "cell_type": "code",
   "execution_count": 8,
   "metadata": {},
   "outputs": [],
   "source": [
    "def deflection():\n",
    "    n=int(input('Please enter the number of cylinders you would like to use: '))\n",
    "    width_cylinders =L/n\n",
    "    total_deflection =0\n",
    "          \n",
    "    for i in range(1,n+1):\n",
    "        center_thick=(i*width_cylinders)-(width_cylinders/2)\n",
    "        r=(-(1/5)*center_thick)+2\n",
    "        deflec=(P*width_cylinders)/(E*math.pi*(r**2))\n",
    "        total_deflection += deflec\n",
    "    \n",
    "    percent_error=round(((total_deflection-deflect_exact)/deflect_exact)*100,4)\n",
    "    \n",
    "    print('')      \n",
    "    print(f'The calculated deflection using n={n} cylinders is {round(total_deflection,9)} meters or {round(total_deflection*(10**3),9)} mm')\n",
    "    print(f'The percent error compared to the exact calculated deflection is {percent_error}%')"
   ]
  },
  {
   "cell_type": "markdown",
   "metadata": {},
   "source": [
    "\n",
    "\n",
    "# Answering the questions"
   ]
  },
  {
   "cell_type": "markdown",
   "metadata": {},
   "source": [
    "### a) n=6"
   ]
  },
  {
   "cell_type": "code",
   "execution_count": 9,
   "metadata": {},
   "outputs": [
    {
     "name": "stdout",
     "output_type": "stream",
     "text": [
      "Please enter the number of cylinders you would like to use: 6\n",
      "\n",
      "The calculated deflection using n=6 cylinders is 7.93e-07 meters or 0.000792585 mm\n",
      "The percent error compared to the exact calculated deflection is -0.4008%\n"
     ]
    }
   ],
   "source": [
    "deflection()"
   ]
  },
  {
   "cell_type": "markdown",
   "metadata": {},
   "source": [
    "### b) n=12"
   ]
  },
  {
   "cell_type": "code",
   "execution_count": 10,
   "metadata": {},
   "outputs": [
    {
     "name": "stdout",
     "output_type": "stream",
     "text": [
      "Please enter the number of cylinders you would like to use: 12\n",
      "\n",
      "The calculated deflection using n=12 cylinders is 7.95e-07 meters or 0.000794971 mm\n",
      "The percent error compared to the exact calculated deflection is -0.101%\n"
     ]
    }
   ],
   "source": [
    "deflection()"
   ]
  },
  {
   "cell_type": "markdown",
   "metadata": {},
   "source": [
    "### c) n=60"
   ]
  },
  {
   "cell_type": "code",
   "execution_count": 11,
   "metadata": {},
   "outputs": [
    {
     "name": "stdout",
     "output_type": "stream",
     "text": [
      "Please enter the number of cylinders you would like to use: 60\n",
      "\n",
      "The calculated deflection using n=60 cylinders is 7.96e-07 meters or 0.000795742 mm\n",
      "The percent error compared to the exact calculated deflection is -0.0041%\n"
     ]
    }
   ],
   "source": [
    "deflection()"
   ]
  },
  {
   "cell_type": "markdown",
   "metadata": {},
   "source": [
    "# Extra work"
   ]
  },
  {
   "cell_type": "markdown",
   "metadata": {},
   "source": [
    "While technically we are done, I don't like how the problem has the student make several large assumptions. Therefore I am going to write another function that asks the user to assign values to P,L,C, and E so that users can test different values of these variable without having to mess with the code"
   ]
  },
  {
   "cell_type": "code",
   "execution_count": 12,
   "metadata": {},
   "outputs": [],
   "source": [
    "def deflection_with_inputs():\n",
    "    p=int(input('Enter a value, in Newtons, for the tensile load applied: P='))\n",
    "    l=int(input('Enter a value, in meters, for the length of the cone: L='))\n",
    "    c=int(input('Enter a value, in meters, for the minor radius of the cone: C='))\n",
    "    e=int(input('Enter a value, in Pascals, for the modulous of elasticity for the material of the cone: E='))\n",
    "    n=int(input('Please enter the number of cylinders you would like to use: n='))\n",
    "    \n",
    "    deflect_exact=(p*l)/(2*math.pi*e*(c**2))\n",
    "    width_cylinders =l/n\n",
    "    total_deflection =0\n",
    "          \n",
    "    for i in range(1,n+1):\n",
    "        center_thick=(i*width_cylinders)-(width_cylinders/2)\n",
    "        r=(-(c/l)*center_thick)+(2*c)\n",
    "        deflec=(p*width_cylinders)/(e*math.pi*(r**2))\n",
    "        total_deflection += deflec\n",
    "    \n",
    "    percent_error=round(((total_deflection-deflect_exact)/deflect_exact)*100,4)\n",
    "    \n",
    "    print('')      \n",
    "    print(f'The calculated deflection using n={n} cylinders is {round(total_deflection,9)} meters or {round(total_deflection*(10**3),9)} mm')\n",
    "    print(f'The percent error compared to the exact calculated deflection is {percent_error}%')"
   ]
  },
  {
   "cell_type": "markdown",
   "metadata": {},
   "source": [
    "I will now use this to check my code with the instructor (who used P=10, L=100, C=5, and E=120,000) who used n=6, 12, and 60 cylinders also"
   ]
  },
  {
   "cell_type": "code",
   "execution_count": 13,
   "metadata": {},
   "outputs": [
    {
     "name": "stdout",
     "output_type": "stream",
     "text": [
      "Enter a value, in Newtons, for the tensile load applied: P=10\n",
      "Enter a value, in meters, for the length of the cone: L=100\n",
      "Enter a value, in meters, for the minor radius of the cone: C=5\n",
      "Enter a value, in Pascals, for the modulous of elasticity for the material of the cone: E=120000\n",
      "Please enter the number of cylinders you would like to use: n=6\n",
      "\n",
      "The calculated deflection using n=6 cylinders is 5.2839e-05 meters or 0.052839003 mm\n",
      "The percent error compared to the exact calculated deflection is -0.4008%\n"
     ]
    }
   ],
   "source": [
    "deflection_with_inputs()"
   ]
  },
  {
   "cell_type": "code",
   "execution_count": 14,
   "metadata": {},
   "outputs": [
    {
     "name": "stdout",
     "output_type": "stream",
     "text": [
      "Enter a value, in Newtons, for the tensile load applied: P=10\n",
      "Enter a value, in meters, for the length of the cone: L=100\n",
      "Enter a value, in meters, for the minor radius of the cone: C=5\n",
      "Enter a value, in Pascals, for the modulous of elasticity for the material of the cone: E=120000\n",
      "Please enter the number of cylinders you would like to use: n=12\n",
      "\n",
      "The calculated deflection using n=12 cylinders is 5.2998e-05 meters or 0.052998064 mm\n",
      "The percent error compared to the exact calculated deflection is -0.101%\n"
     ]
    }
   ],
   "source": [
    "deflection_with_inputs()"
   ]
  },
  {
   "cell_type": "code",
   "execution_count": 15,
   "metadata": {},
   "outputs": [
    {
     "name": "stdout",
     "output_type": "stream",
     "text": [
      "Enter a value, in Newtons, for the tensile load applied: P=10\n",
      "Enter a value, in meters, for the length of the cone: L=100\n",
      "Enter a value, in meters, for the minor radius of the cone: C=5\n",
      "Enter a value, in Pascals, for the modulous of elasticity for the material of the cone: E=120000\n",
      "Please enter the number of cylinders you would like to use: n=60\n",
      "\n",
      "The calculated deflection using n=60 cylinders is 5.3049e-05 meters or 0.053049499 mm\n",
      "The percent error compared to the exact calculated deflection is -0.0041%\n"
     ]
    }
   ],
   "source": [
    "deflection_with_inputs()"
   ]
  }
 ],
 "metadata": {
  "kernelspec": {
   "display_name": "Python 3",
   "language": "python",
   "name": "python3"
  },
  "language_info": {
   "codemirror_mode": {
    "name": "ipython",
    "version": 3
   },
   "file_extension": ".py",
   "mimetype": "text/x-python",
   "name": "python",
   "nbconvert_exporter": "python",
   "pygments_lexer": "ipython3",
   "version": "3.7.1"
  }
 },
 "nbformat": 4,
 "nbformat_minor": 2
}
